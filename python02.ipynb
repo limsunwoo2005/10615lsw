{
  "nbformat": 4,
  "nbformat_minor": 0,
  "metadata": {
    "colab": {
      "name": "python02.ipynb",
      "provenance": [],
      "collapsed_sections": [],
      "toc_visible": true,
      "include_colab_link": true
    },
    "kernelspec": {
      "name": "python3",
      "display_name": "Python 3"
    },
    "language_info": {
      "name": "python"
    }
  },
  "cells": [
    {
      "cell_type": "markdown",
      "metadata": {
        "id": "view-in-github",
        "colab_type": "text"
      },
      "source": [
        "<a href=\"https://colab.research.google.com/github/limsunwoo2005/10615lsw/blob/main/python02.ipynb\" target=\"_parent\"><img src=\"https://colab.research.google.com/assets/colab-badge.svg\" alt=\"Open In Colab\"/></a>"
      ]
    },
    {
      "cell_type": "markdown",
      "metadata": {
        "id": "U_N0OPT_KdOK"
      },
      "source": [
        "# **컬렉션자료형(collection data type)**\n",
        "+ 여러 요소를 묶어서 처리할 수 있는 자료형 \n",
        "+ 각 요소에 접근하는 방법이 제공\n",
        "\n",
        "![대체 텍스트](https://drive.google.com/uc?export=view&id=1qNHKZPJv546haViE6KBY3kg8gUlHJm_F)"
      ]
    },
    {
      "cell_type": "markdown",
      "metadata": {
        "id": "bskomZoIKr0G"
      },
      "source": [
        "## 문자열 "
      ]
    },
    {
      "cell_type": "markdown",
      "metadata": {
        "id": "wrbbIeVOdXc7"
      },
      "source": [
        "### 문자열 요소 접근"
      ]
    },
    {
      "cell_type": "code",
      "metadata": {
        "id": "CWKy8Fo7eq94",
        "colab": {
          "base_uri": "https://localhost:8080/"
        },
        "outputId": "8190a3e3-87f1-430e-a6b1-9e50ae51a283"
      },
      "source": [
        "#문자요소 접근 \n",
        "s = 'Hello Python!'\n",
        "print(s[6 : 12])"
      ],
      "execution_count": null,
      "outputs": [
        {
          "output_type": "stream",
          "text": [
            "Python\n"
          ],
          "name": "stdout"
        }
      ]
    },
    {
      "cell_type": "code",
      "metadata": {
        "id": "hLhbsd1XiBFK",
        "colab": {
          "base_uri": "https://localhost:8080/"
        },
        "outputId": "4ad41ffb-ad30-49d1-b8a7-543820000b77"
      },
      "source": [
        "# 문자열에 포함된 숫자들의 합\n",
        "s = 'co12vid19'\n",
        "data = input()\n",
        "\n",
        "sum = 0\n",
        "for item in data :\n",
        "  if '1' <= item <= '9' :\n",
        "     sum = sum + int(item)\n",
        "\n",
        "print(f'{data} 중 숫자의 합은 {sum}')"
      ],
      "execution_count": null,
      "outputs": [
        {
          "output_type": "stream",
          "text": [
            "kimseongdong55\n",
            "kimseongdong55 중 숫자의 합은 10\n"
          ],
          "name": "stdout"
        }
      ]
    },
    {
      "cell_type": "markdown",
      "metadata": {
        "id": "EeRoj_qXeTUz"
      },
      "source": [
        "### 문자열 인덱싱\n",
        " -  문자열의 각 문자는 0부터 시작되는 인덱스를 가짐\n",
        " - [인덱스]를 이용하여 인덱스위치의 문자 추출 :  처음위치 [0], 마지막위치 [-1]\n",
        " "
      ]
    },
    {
      "cell_type": "code",
      "metadata": {
        "id": "RAggJY-wejri"
      },
      "source": [
        "s = 'Hello Python!'\n",
        "\n",
        "# 첫번쨰 문자\n",
        "\n",
        "# 마지막 문자 "
      ],
      "execution_count": null,
      "outputs": []
    },
    {
      "cell_type": "markdown",
      "metadata": {
        "id": "b_aP0gP72DaV"
      },
      "source": [
        "---\n",
        "### 해결문제\n",
        "---\n",
        "주민번호를 입력받아서 남여를 구분하시오. 입력형식 123456-1234567"
      ]
    },
    {
      "cell_type": "code",
      "metadata": {
        "id": "97RRp4Vf2VAs",
        "colab": {
          "base_uri": "https://localhost:8080/"
        },
        "outputId": "92f3ba0b-9c6d-4519-d345-d10cb1aba2ff"
      },
      "source": [
        "s = '123456-2234567'\n",
        "if s[7] == '1' or s[7] == '3' :\n",
        "  print('남')\n",
        "else:\n",
        "  print('여')\n"
      ],
      "execution_count": null,
      "outputs": [
        {
          "output_type": "stream",
          "text": [
            "여\n"
          ],
          "name": "stdout"
        }
      ]
    },
    {
      "cell_type": "markdown",
      "metadata": {
        "id": "_ECVXl6meezS"
      },
      "source": [
        "\n",
        "### 문자열 슬라이싱 \n",
        " - [인덱스1:인덱스2]: 인덱스1 위치에서 인덱스2 -1 위치까지 잘라냄\n",
        " - [인덱스1:] : 인덱스1 위치에서 끝까지 잘라냄\n",
        " - [: 인덱스2] : 처음부터 인덱스2 -1 위치까지 잘라냄"
      ]
    },
    {
      "cell_type": "code",
      "metadata": {
        "id": "u7XUAQwvfSP2",
        "colab": {
          "base_uri": "https://localhost:8080/",
          "height": 35
        },
        "outputId": "a1ad3879-f27e-459f-86c5-4784a205cd63"
      },
      "source": [
        "s = 'Hello Python!'\n",
        "\n",
        "# 5글자 추출\n",
        "s[::-1]"
      ],
      "execution_count": null,
      "outputs": [
        {
          "output_type": "execute_result",
          "data": {
            "application/vnd.google.colaboratory.intrinsic+json": {
              "type": "string"
            },
            "text/plain": [
              "'!nohtyP olleH'"
            ]
          },
          "metadata": {
            "tags": []
          },
          "execution_count": 32
        }
      ]
    },
    {
      "cell_type": "markdown",
      "metadata": {
        "id": "9JuBLEqQjfRn"
      },
      "source": [
        "### 문자열 연산\n",
        "+ 문자열 더하기(+)\n",
        "+ 문자열 곱하기(*)"
      ]
    },
    {
      "cell_type": "code",
      "metadata": {
        "id": "1K42RN_kjj1L",
        "colab": {
          "base_uri": "https://localhost:8080/"
        },
        "outputId": "b530c935-2b72-4a7c-eeb4-430dc2bb5880"
      },
      "source": [
        "'''\n",
        "다음과 같이 출력\n",
        "------------------------------\n",
        "Hello Python!2021\n",
        "------------------------------\n",
        "'''\n",
        "s = 'Hello Python!'\n",
        "print('-'*500)\n",
        "print(s, '2021')\n",
        "print('-'*500)"
      ],
      "execution_count": null,
      "outputs": [
        {
          "output_type": "stream",
          "text": [
            "--------------------------------------------------------------------------------------------------------------------------------------------------------------------------------------------------------------------------------------------------------------------------------------------------------------------------------------------------------------------------------------------------------------------------------------------------------------------------------------------------------------------\n",
            "Hello Python! 2021\n",
            "--------------------------------------------------------------------------------------------------------------------------------------------------------------------------------------------------------------------------------------------------------------------------------------------------------------------------------------------------------------------------------------------------------------------------------------------------------------------------------------------------------------------\n"
          ],
          "name": "stdout"
        }
      ]
    },
    {
      "cell_type": "code",
      "metadata": {
        "colab": {
          "base_uri": "https://localhost:8080/"
        },
        "id": "wSn8DdPLm73D",
        "outputId": "3ce40956-c628-41ec-e865-275d9f178cff"
      },
      "source": [
        "s.index('P')"
      ],
      "execution_count": null,
      "outputs": [
        {
          "output_type": "execute_result",
          "data": {
            "text/plain": [
              "6"
            ]
          },
          "metadata": {
            "tags": []
          },
          "execution_count": 39
        }
      ]
    },
    {
      "cell_type": "code",
      "metadata": {
        "colab": {
          "base_uri": "https://localhost:8080/",
          "height": 35
        },
        "id": "tTQkpyNVnmeB",
        "outputId": "7fc09837-a3ab-44ab-c719-de2673c2070f"
      },
      "source": [
        "s.replace('!', '!!!!')"
      ],
      "execution_count": null,
      "outputs": [
        {
          "output_type": "execute_result",
          "data": {
            "application/vnd.google.colaboratory.intrinsic+json": {
              "type": "string"
            },
            "text/plain": [
              "'Hello Python!!!!'"
            ]
          },
          "metadata": {
            "tags": []
          },
          "execution_count": 42
        }
      ]
    },
    {
      "cell_type": "code",
      "metadata": {
        "colab": {
          "base_uri": "https://localhost:8080/"
        },
        "id": "daWunCTOoLuo",
        "outputId": "b5871cd7-ebda-4049-a01c-6f41ae095df9"
      },
      "source": [
        "s.split('-')"
      ],
      "execution_count": null,
      "outputs": [
        {
          "output_type": "execute_result",
          "data": {
            "text/plain": [
              "['Hello Python!']"
            ]
          },
          "metadata": {
            "tags": []
          },
          "execution_count": 43
        }
      ]
    },
    {
      "cell_type": "code",
      "metadata": {
        "colab": {
          "base_uri": "https://localhost:8080/"
        },
        "id": "RwSdRTIxoPAI",
        "outputId": "b3fb4998-43fc-40f7-9ffb-e8f3225f1fcf"
      },
      "source": [
        "s = 'Hello Python!'\n",
        "s.split('-')"
      ],
      "execution_count": null,
      "outputs": [
        {
          "output_type": "execute_result",
          "data": {
            "text/plain": [
              "['Hello Python!']"
            ]
          },
          "metadata": {
            "tags": []
          },
          "execution_count": 44
        }
      ]
    },
    {
      "cell_type": "markdown",
      "metadata": {
        "id": "AMTyZCqsfi6c"
      },
      "source": [
        "### **문자열 메소드**\n",
        "+ **len()** : 문자열 길이 구하기\n",
        "+ **count()** : 문자의 개수 구하기\n",
        "+ **find()** : 문자가 처음 나오는 위치 반환 , 없으면 -1\n",
        "+ **index()** : 문자가 처음 나오는 위치 반환, 없으면 오류\n",
        "+ **join()** : 문자열 사이에 문자 삽입, 삽입문자’.join(문자열)\n",
        "+ **upper()** :소문자를 대문자로 변환\n",
        "+ **lower()** : 대문자를 소문자로 변환\n",
        "+ **replace()** : 문자열 바꾸기\n",
        "+ **replace(원본, 변환문자)**\n",
        "+ **split()** : 문자열 나누기\n",
        " - 인수가 없으면 공백(스페이스, 탭, 엔터 등)을 기준"
      ]
    },
    {
      "cell_type": "markdown",
      "metadata": {
        "id": "wehzUobPivZ1"
      },
      "source": [
        "---\n",
        "### 해결문제\n",
        "---\n",
        "코로나(corona)는 라틴말로 왕관을 뜻하며 통상 태양을 둘러싼 외곽의 빛(광환)을 지칭한다. 코로나바이러스라는 이름은 전자현미경으로 이 바이러스를 관찰했을 때 마치 코로나와 유사한 모양을 띠어 붙여진 이름이다. 이번에 중국의 우환에서 시작된 코로나바이러스는 2019년에 발견된 새로운 코로나바이러스라는 뜻으로 2019-nCoV로 붙여졌다. nCoV는 novel(새로운) CoV(코로나바이러스)라는 뜻이다.\n",
        "\n",
        "+ 주어진 문자열은 문장으로 구성 되어 있는지 출력하시오. \n",
        "+ 찾고자 하는 단어를 입력 받아서 해당 단어가 몇 번 언급되었는지 확인해 보세요."
      ]
    },
    {
      "cell_type": "code",
      "metadata": {
        "id": "Bm6acluwjTZf",
        "colab": {
          "base_uri": "https://localhost:8080/"
        },
        "outputId": "898ce0d0-0c7f-4c80-c9e3-864b5db573b2"
      },
      "source": [
        "'''\n",
        "다음과 같이 출력 \n",
        "--------------------------------------------------\n",
        "4개의 문장으로 이루어져있습니다.\n",
        "['코로나(corona)는 라틴말로 왕관을 뜻하며 통상 태양을 둘러싼 외곽의 빛(광환)을 지칭한다', ' 코로나바이러스라는 이름은 전자현미경으로 이 바이러스를 관찰했을 때 마치 코로나와 유사한 모양을 띠어 붙여진 이름이다', ' 이번에 중국의 우환에서 시작된 코로나바이러스는 2019년에 발견된 새로운 코로나바이러스라는 뜻으로 2019-nCoV로 붙여졌다', ' nCoV는 novel(새로운) CoV(코로나바이러스)라는 뜻이다', ' ']\n",
        "--------------------------------------------------\n",
        "찾고자하는 단어를 입력하세요.코로나\n",
        "--------------------------------------------------\n",
        "코로나는 6번 언급되었습니다.\n",
        "--------------------------------------------------\n",
        "'''\n",
        "\n",
        "corona = '''\n",
        "코로나(corona)는 라틴말로 왕관을 뜻하며 통상 태양을 둘러싼 외곽의 빛(광환)을 지칭한다. \n",
        "코로나바이러스라는 이름은 전자현미경으로 이 바이러스를 관찰했을 때 마치 코로나와 유사한 모양을 띠어 붙여진 이름이다. \n",
        "이번에 중국의 우환에서 시작된 코로나바이러스는 2019년에 발견된 새로운 코로나바이러스라는 뜻으로 2019-nCoV로 붙여졌다. \n",
        "nCoV는 novel(새로운) CoV(코로나바이러스)라는 뜻이다. \n",
        "'''\n",
        "print(corona.count('.'))\n",
        "corona = corona. replace('\\n','')\n",
        "print(corona.split('.'))\n"
      ],
      "execution_count": null,
      "outputs": [
        {
          "output_type": "stream",
          "text": [
            "4\n",
            "['코로나(corona)는 라틴말로 왕관을 뜻하며 통상 태양을 둘러싼 외곽의 빛(광환)을 지칭한다', ' 코로나바이러스라는 이름은 전자현미경으로 이 바이러스를 관찰했을 때 마치 코로나와 유사한 모양을 띠어 붙여진 이름이다', ' 이번에 중국의 우환에서 시작된 코로나바이러스는 2019년에 발견된 새로운 코로나바이러스라는 뜻으로 2019-nCoV로 붙여졌다', ' nCoV는 novel(새로운) CoV(코로나바이러스)라는 뜻이다', ' ']\n"
          ],
          "name": "stdout"
        }
      ]
    },
    {
      "cell_type": "code",
      "metadata": {
        "colab": {
          "base_uri": "https://localhost:8080/"
        },
        "id": "owm5x2vypimx",
        "outputId": "c4ce2c5b-c3fa-41ef-9e35-ece545964c1e"
      },
      "source": [
        "w = input()\n",
        "\n",
        "print(corona.count(w))"
      ],
      "execution_count": null,
      "outputs": [
        {
          "output_type": "stream",
          "text": [
            "코로나\n",
            "6\n"
          ],
          "name": "stdout"
        }
      ]
    },
    {
      "cell_type": "markdown",
      "metadata": {
        "id": "ijNhIH6CmrXJ"
      },
      "source": [
        "## **리스트(list)**\n",
        " - 리스트의 각 요소는 순서를 가지고 있음\n",
        " - 대괄호([])로 작성되며 각 요소는 쉼표(,)로 구분\n",
        " - 요소를 추가, 수정, 삭제 가능"
      ]
    },
    {
      "cell_type": "markdown",
      "metadata": {
        "id": "3SrhTGkinJz7"
      },
      "source": [
        "### 리스트 생성\n",
        "+ []나 리스트 함수"
      ]
    },
    {
      "cell_type": "code",
      "metadata": {
        "id": "9BAADR6snRE5",
        "colab": {
          "base_uri": "https://localhost:8080/"
        },
        "outputId": "427d24f6-fdda-4b42-c34d-8156cfe921cc"
      },
      "source": [
        "x = [1, 2, 3, 'a', 'b', [14.5, 5.6]]\n",
        "print(x, type(x))"
      ],
      "execution_count": null,
      "outputs": [
        {
          "output_type": "stream",
          "text": [
            "[1, 2, 3, 'a', 'b', [14.5, 5.6]] <class 'list'>\n"
          ],
          "name": "stdout"
        }
      ]
    },
    {
      "cell_type": "code",
      "metadata": {
        "colab": {
          "base_uri": "https://localhost:8080/"
        },
        "id": "9WrdmBAcqwYL",
        "outputId": "97af64a5-1c2b-4fe9-b93c-d167fdcb5026"
      },
      "source": [
        "print(x[3:])"
      ],
      "execution_count": null,
      "outputs": [
        {
          "output_type": "stream",
          "text": [
            "['a', 'b', [14.5, 5.6]]\n"
          ],
          "name": "stdout"
        }
      ]
    },
    {
      "cell_type": "markdown",
      "metadata": {
        "id": "DT3ToqCOoJKi"
      },
      "source": [
        "### 리스트 요소 접근"
      ]
    },
    {
      "cell_type": "code",
      "metadata": {
        "id": "9b4wEJ17oNLo",
        "colab": {
          "base_uri": "https://localhost:8080/"
        },
        "outputId": "cc5af42b-d1b1-47dd-9385-ce76e4227786"
      },
      "source": [
        "lt = ['1', '2', '3', '4', '5']\n",
        "\n",
        "# 각 요소 한줄로 출력 \n",
        "# 출력 : 1 2 3 4 5 \n",
        "for i in lt :\n",
        "  print(i, end= ' ')"
      ],
      "execution_count": 1,
      "outputs": [
        {
          "output_type": "stream",
          "text": [
            "1 2 3 4 5 "
          ],
          "name": "stdout"
        }
      ]
    },
    {
      "cell_type": "code",
      "metadata": {
        "colab": {
          "base_uri": "https://localhost:8080/"
        },
        "id": "CzTw-YF0oiq5",
        "outputId": "45c596ab-be9a-4d19-fecf-d309d87a57a7"
      },
      "source": [
        "lt = ['1', '2', '3', '4', '5']\n",
        "print(f'{lt} => {type(lt)}')\n",
        "\n",
        "for i in lt :\n",
        "  print(i, type(i), end= ' ')\n",
        "#요소를 모두 정수로 변환 \n",
        "lt = [int(i) for i in lt]\n",
        "for i in lt :\n",
        "  print(i, type(i), end= ' ')"
      ],
      "execution_count": 3,
      "outputs": [
        {
          "output_type": "stream",
          "text": [
            "['1', '2', '3', '4', '5'] => <class 'list'>\n",
            "1 <class 'str'> 2 <class 'str'> 3 <class 'str'> 4 <class 'str'> 5 <class 'str'> 1 <class 'int'> 2 <class 'int'> 3 <class 'int'> 4 <class 'int'> 5 <class 'int'> "
          ],
          "name": "stdout"
        }
      ]
    },
    {
      "cell_type": "markdown",
      "metadata": {
        "id": "ZzvRHvMKtPo6"
      },
      "source": [
        "---\n",
        "\n",
        "**생각해보기 해결문제)**\n",
        "\n",
        "\n",
        "---\n",
        "정수형으로 입력되는 밑변과 높이를 공백을 기준으로 한 줄로 입력받는다면?\n",
        "* 예) 20 10"
      ]
    },
    {
      "cell_type": "code",
      "metadata": {
        "id": "LsKC8ezKtV5J",
        "colab": {
          "base_uri": "https://localhost:8080/"
        },
        "outputId": "363a4cda-f452-4e39-e11f-8673930f6284"
      },
      "source": [
        " data = input()\n",
        " x = data.split(' ')\n",
        " x = [int(i) for i in x]\n",
        " print(x)\n",
        " print(f'밑변 {x[0]}, 높이{x[1]} => 면적 {x[0] *x[1] / 2}')\n",
        "# print(f'밑변이 {s}이고 높이가 {h}인 삼각형의 면적은 {side}입니다.')"
      ],
      "execution_count": null,
      "outputs": [
        {
          "output_type": "stream",
          "text": [
            "20 10\n",
            "[20, 10]\n",
            "밑변 20, 높이10 => 면적 100.0\n"
          ],
          "name": "stdout"
        }
      ]
    },
    {
      "cell_type": "code",
      "metadata": {
        "colab": {
          "base_uri": "https://localhost:8080/"
        },
        "id": "8aKAV6C0D7Ec",
        "outputId": "a46f8ffd-f1cb-4b7d-e207-09648db14799"
      },
      "source": [
        "lt = ['1', '2', '3', '4', '5']\n",
        "for item in lt :\n",
        "  print(item, type(item), int(item), type (int(item)))"
      ],
      "execution_count": 19,
      "outputs": [
        {
          "output_type": "stream",
          "text": [
            "1 <class 'str'> 1 <class 'int'>\n",
            "2 <class 'str'> 2 <class 'int'>\n",
            "3 <class 'str'> 3 <class 'int'>\n",
            "4 <class 'str'> 4 <class 'int'>\n",
            "5 <class 'str'> 5 <class 'int'>\n"
          ],
          "name": "stdout"
        }
      ]
    },
    {
      "cell_type": "code",
      "metadata": {
        "colab": {
          "base_uri": "https://localhost:8080/"
        },
        "id": "zqfbQ1DXGDqN",
        "outputId": "ad8e1164-1d1a-4a13-d113-bb8f64c0bd1d"
      },
      "source": [
        "lt = [int(item) for item in lt]\n",
        "lt"
      ],
      "execution_count": 20,
      "outputs": [
        {
          "output_type": "execute_result",
          "data": {
            "text/plain": [
              "[1, 2, 3, 4, 5]"
            ]
          },
          "metadata": {
            "tags": []
          },
          "execution_count": 20
        }
      ]
    },
    {
      "cell_type": "code",
      "metadata": {
        "colab": {
          "base_uri": "https://localhost:8080/"
        },
        "id": "ihVegyrKEw9i",
        "outputId": "e32c5454-cdd9-4ab3-80f4-8c203372a3e9"
      },
      "source": [
        "lt[0] = int(lt[0])\n",
        "lt[1] = int(lt[1])\n",
        "\n",
        "#range(5) => 0-4\n",
        "for i in range(len(lt)) :\n",
        "  lt[i] = int(lt[i]) \n",
        "\n",
        "lt"
      ],
      "execution_count": 17,
      "outputs": [
        {
          "output_type": "execute_result",
          "data": {
            "text/plain": [
              "[1, 2, 3, 4, 5]"
            ]
          },
          "metadata": {
            "tags": []
          },
          "execution_count": 17
        }
      ]
    },
    {
      "cell_type": "markdown",
      "metadata": {
        "id": "ih2lzZgSnXr6"
      },
      "source": [
        "### 리스트 인덱싱\n",
        " - 요소의 선택은 0부터 시작되는 인덱스로 접근\n",
        " - 리스트명[인덱스]"
      ]
    },
    {
      "cell_type": "code",
      "metadata": {
        "id": "7d_oMnoinapv",
        "colab": {
          "base_uri": "https://localhost:8080/"
        },
        "outputId": "d8ec9d98-73a3-471f-e64e-acdb9f4bc961"
      },
      "source": [
        "lt = [1 , 3, 5]\n",
        "\n",
        "#마지막 요소 출력\n",
        "print(lt[-1])"
      ],
      "execution_count": 22,
      "outputs": [
        {
          "output_type": "stream",
          "text": [
            "5\n"
          ],
          "name": "stdout"
        }
      ]
    },
    {
      "cell_type": "markdown",
      "metadata": {
        "id": "4kkhezktnt7Z"
      },
      "source": [
        "### 리스트 슬라이싱\n",
        " - 요소의 일부분 선택\n",
        " - 리스트명[시작인덱스:종료인덱스] : 종료인덱스는 포함되지 않음"
      ]
    },
    {
      "cell_type": "code",
      "metadata": {
        "id": "7xe1tbXvnzG5",
        "colab": {
          "base_uri": "https://localhost:8080/"
        },
        "outputId": "ead94462-8813-495c-a9de-75b3f0b9c53e"
      },
      "source": [
        "lt = [1 , 3, 5]\n",
        "\n",
        "#3, 5 추출\n",
        "print(lt[1], lt[2])\n",
        "lt[1:] "
      ],
      "execution_count": 24,
      "outputs": [
        {
          "output_type": "stream",
          "text": [
            "3 5\n"
          ],
          "name": "stdout"
        },
        {
          "output_type": "execute_result",
          "data": {
            "text/plain": [
              "[3, 5]"
            ]
          },
          "metadata": {
            "tags": []
          },
          "execution_count": 24
        }
      ]
    },
    {
      "cell_type": "markdown",
      "metadata": {
        "id": "TdtqmVq-pRDQ"
      },
      "source": [
        "### 리스트 연산\n",
        "+ 더하기(+) : 리스트와 리스트 연결\n",
        "+ 곱하기(*) : 리스트 요소 반복"
      ]
    },
    {
      "cell_type": "code",
      "metadata": {
        "id": "Yr-2ScgTpbe4",
        "colab": {
          "base_uri": "https://localhost:8080/"
        },
        "outputId": "33bc0eda-2357-4e88-bb9a-42c34a7ed7ad"
      },
      "source": [
        "lt1 = [1, 2, 3]\n",
        "lt2 = [3, 4, 5]\n",
        "\n",
        "#두 리스트 더하기\n",
        "lt = lt1 + lt2\n",
        "print('리스트 더하기:', lt)\n",
        "#lt1 리스트 요소 3번 반복하기\n",
        "print(lt1 * 3)\n",
        " "
      ],
      "execution_count": 26,
      "outputs": [
        {
          "output_type": "stream",
          "text": [
            "리스트 더하기: [1, 2, 3, 3, 4, 5]\n",
            "[1, 2, 3, 1, 2, 3, 1, 2, 3]\n"
          ],
          "name": "stdout"
        }
      ]
    },
    {
      "cell_type": "code",
      "metadata": {
        "colab": {
          "base_uri": "https://localhost:8080/"
        },
        "id": "QJ5BcDvFHwTP",
        "outputId": "fe9dd6e1-0ae4-443e-9a00-f67ddfbcd9be"
      },
      "source": [
        "s1 = 'Hello'\n",
        "s2 = 'Python'\n",
        "\n",
        "print(s1 + s2)\n",
        "print(s1 * 3)"
      ],
      "execution_count": 28,
      "outputs": [
        {
          "output_type": "stream",
          "text": [
            "HelloPython\n",
            "HelloHelloHello\n"
          ],
          "name": "stdout"
        }
      ]
    },
    {
      "cell_type": "code",
      "metadata": {
        "colab": {
          "base_uri": "https://localhost:8080/"
        },
        "id": "6c_rmxCZIBBh",
        "outputId": "426130a3-8db1-482a-874a-b82265824432"
      },
      "source": [
        "lt1 = [1, 2, 3]\n",
        "lt2 = [3, 4, 5]\n",
        "\n",
        "lt = [0, 0, 0]\n",
        "\n",
        "for i in range(len(lt1)) :\n",
        "  lt[i] = lt1[i] + lt2[i]\n",
        "  print(lt)"
      ],
      "execution_count": 34,
      "outputs": [
        {
          "output_type": "stream",
          "text": [
            "[4, 0, 0]\n",
            "[4, 6, 0]\n",
            "[4, 6, 8]\n"
          ],
          "name": "stdout"
        }
      ]
    },
    {
      "cell_type": "code",
      "metadata": {
        "colab": {
          "base_uri": "https://localhost:8080/"
        },
        "id": "VuIlSG43Jv-H",
        "outputId": "e9865bcd-b1dc-428a-b560-569a8599effb"
      },
      "source": [
        "lt1 = [1, 2, 3]\n",
        "lt2 = [3, 4, 5]\n",
        "\n",
        "lt = []\n",
        "for i in range(len(lt1)) :\n",
        "  lt. append(lt1[i] + lt2[i])\n",
        "  \n",
        "print(lt)"
      ],
      "execution_count": 43,
      "outputs": [
        {
          "output_type": "stream",
          "text": [
            "[4, 6, 8]\n"
          ],
          "name": "stdout"
        }
      ]
    },
    {
      "cell_type": "code",
      "metadata": {
        "colab": {
          "base_uri": "https://localhost:8080/"
        },
        "id": "Hslzos0rKkd1",
        "outputId": "7bf4b8a2-4793-4908-903c-bae5d0f382b5"
      },
      "source": [
        "lt.remove(6)\n",
        "lt"
      ],
      "execution_count": 44,
      "outputs": [
        {
          "output_type": "execute_result",
          "data": {
            "text/plain": [
              "[4, 8]"
            ]
          },
          "metadata": {
            "tags": []
          },
          "execution_count": 44
        }
      ]
    },
    {
      "cell_type": "code",
      "metadata": {
        "colab": {
          "base_uri": "https://localhost:8080/"
        },
        "id": "Q45LAKjFKBft",
        "outputId": "0c6b3217-1611-4856-9661-3ddd41d3d016"
      },
      "source": [
        "lt. insert(1, 2)\n",
        "lt"
      ],
      "execution_count": 36,
      "outputs": [
        {
          "output_type": "execute_result",
          "data": {
            "text/plain": [
              "[4, 2, 6, 8]"
            ]
          },
          "metadata": {
            "tags": []
          },
          "execution_count": 36
        }
      ]
    },
    {
      "cell_type": "code",
      "metadata": {
        "colab": {
          "base_uri": "https://localhost:8080/"
        },
        "id": "Hr_lGnq1KPYQ",
        "outputId": "80c9c60f-ecfb-4f5c-9160-3348c1f6272e"
      },
      "source": [
        "lt. pop(1)\n",
        "lt"
      ],
      "execution_count": 39,
      "outputs": [
        {
          "output_type": "execute_result",
          "data": {
            "text/plain": [
              "[2]"
            ]
          },
          "metadata": {
            "tags": []
          },
          "execution_count": 39
        }
      ]
    },
    {
      "cell_type": "markdown",
      "metadata": {
        "id": "mXjykxxSqMzy"
      },
      "source": [
        "### 리스트 변경\n",
        "* 추가\n",
        " - 리스트명.append(추가요소) : 마지막에 추가\n",
        " - 리스트명.insert(인덱스, 추가요소) : 해당 인덱스에 요소 추가\n",
        "\n",
        "* 삭제\n",
        " - 리스트명.pop() : 마지막 요소 삭제\n",
        " - 리스트명.pop(인덱스) : 해당 인덱스 요소 삭제\n",
        " - 리스트명.remove(요소값) : 해당 요소값 삭제, 해당 값이 없으면 오류\n",
        "\n",
        "* 수정\n",
        " - 리스트명[인덱스]=변경값\n",
        " - (참고) isinstance()함수 : 특정 객체가 특정 타입인지에 대해서 확인할 수 있는 방법"
      ]
    },
    {
      "cell_type": "code",
      "metadata": {
        "id": "O-i_PPx-qQdh",
        "colab": {
          "base_uri": "https://localhost:8080/"
        },
        "outputId": "cb83dd31-e0b6-4173-aa13-f29d700473ee"
      },
      "source": [
        "# 정수를 입력받아서 약수리스트를 구하기\n",
        "a=int(input())\n",
        "b=[]\n",
        "for i in range(1,a+1):\n",
        "  if a%i==0:\n",
        "    b.append(i)\n",
        "print(b)"
      ],
      "execution_count": 69,
      "outputs": [
        {
          "output_type": "stream",
          "text": [
            "222\n",
            "[1, 2, 3, 6, 37, 74, 111, 222]\n"
          ],
          "name": "stdout"
        }
      ]
    },
    {
      "cell_type": "code",
      "metadata": {
        "id": "t2PiP_uZPgps"
      },
      "source": [
        "n = int(input())"
      ],
      "execution_count": null,
      "outputs": []
    },
    {
      "cell_type": "code",
      "metadata": {
        "id": "985IaliOPue2"
      },
      "source": [
        "lt = []\n",
        "for i in range(1, n+1) :\n",
        "  if n % i == 0 : lt.append(i)\n",
        "\n",
        "\n",
        "lt\n"
      ],
      "execution_count": null,
      "outputs": []
    },
    {
      "cell_type": "code",
      "metadata": {
        "colab": {
          "base_uri": "https://localhost:8080/"
        },
        "id": "B1aRtHF-RiRg",
        "outputId": "d0cce4dc-1212-4174-9252-aef4b2cb6527"
      },
      "source": [
        "print(f'합계 : {sum(lt)}')\n",
        "print(f'최댓값 : {max(lt)}')\n",
        "print(f'최솟값 : {min(lt)}')\n",
        "print(f'평균 : {sum(lt) / len(lt)}')"
      ],
      "execution_count": 19,
      "outputs": [
        {
          "output_type": "stream",
          "text": [
            "합계 : 1026160128\n",
            "최댓값 : 554554546\n",
            "최솟값 : 1\n",
            "평균 : 32067504.0\n"
          ],
          "name": "stdout"
        }
      ]
    },
    {
      "cell_type": "code",
      "metadata": {
        "id": "alW5K8EIRiLf"
      },
      "source": [
        ""
      ],
      "execution_count": null,
      "outputs": []
    },
    {
      "cell_type": "code",
      "metadata": {
        "colab": {
          "base_uri": "https://localhost:8080/"
        },
        "id": "yULNUZFcQl4B",
        "outputId": "7ad6c6dc-9288-4721-a016-d63ef7966727"
      },
      "source": [
        "ssum = 0\n",
        "for i in lt :\n",
        "  ssum = ssum +i\n",
        "print(ssum)"
      ],
      "execution_count": 74,
      "outputs": [
        {
          "output_type": "stream",
          "text": [
            "1860\n"
          ],
          "name": "stdout"
        }
      ]
    },
    {
      "cell_type": "code",
      "metadata": {
        "colab": {
          "base_uri": "https://localhost:8080/"
        },
        "id": "RFc-e1uYqzl0",
        "outputId": "39f07340-a2ce-42bd-9dcf-455da7dd2794"
      },
      "source": [
        "#두번째 위치에 9 추가\n",
        " "
      ],
      "execution_count": null,
      "outputs": [
        {
          "output_type": "execute_result",
          "data": {
            "text/plain": [
              "[1, 9, 2, 5, 10]"
            ]
          },
          "metadata": {
            "tags": []
          },
          "execution_count": 14
        }
      ]
    },
    {
      "cell_type": "code",
      "metadata": {
        "colab": {
          "base_uri": "https://localhost:8080/"
        },
        "id": "jWJkTNWXrRqC",
        "outputId": "f5c224c0-08fe-4c27-b57e-ff692201de12"
      },
      "source": [
        "lt = [1, 2, 5 , 10]\n",
        "\n",
        "lt = [i for i in lt if i > 2]\n",
        "lt\n",
        "\n",
        "#2를 제외한 모든 요소 삭제"
      ],
      "execution_count": null,
      "outputs": [
        {
          "output_type": "stream",
          "text": [
            "[2]\n"
          ],
          "name": "stdout"
        }
      ]
    },
    {
      "cell_type": "code",
      "metadata": {
        "id": "5iGnTAmUr5tB"
      },
      "source": [
        "# 문자인 요소를 숫자로 변경\n",
        "lt = [1, 2, '5', 10]\n",
        " "
      ],
      "execution_count": null,
      "outputs": []
    },
    {
      "cell_type": "markdown",
      "metadata": {
        "id": "sjMZQUazwNFi"
      },
      "source": [
        "### 리스트 메소드\n",
        "+ 리스트명.index(요소값) : 해당 요소값의 위치를 반환\n",
        " - 여러 개 요소가 존재하면 첫번째 위치 반환하고 없으면 오류\n",
        "+ 리스트명.count(요소값) : 리스트 요소 개수 구하기\n",
        "+ 리스트명.sort() : 오름차순 리스트 정렬\n",
        " - 리스트명.sort(reverse=True): 내림차순\n",
        "+ 리스트명.reverse() : 요소를 역순으로 뒤집어 줌 "
      ]
    },
    {
      "cell_type": "code",
      "metadata": {
        "colab": {
          "base_uri": "https://localhost:8080/"
        },
        "id": "ZFWIfAIIcLGn",
        "outputId": "38195579-39b1-4877-a816-302d9c6cb062"
      },
      "source": [
        "lt = [1, 2, 2 ,4]\n",
        "lt.count(2)"
      ],
      "execution_count": 1,
      "outputs": [
        {
          "output_type": "execute_result",
          "data": {
            "text/plain": [
              "2"
            ]
          },
          "metadata": {
            "tags": []
          },
          "execution_count": 1
        }
      ]
    },
    {
      "cell_type": "code",
      "metadata": {
        "id": "rAHjLP5TcfGp"
      },
      "source": [
        "lt = [4, 2, 1, 24]\n",
        "lt.sort(reverse=True)"
      ],
      "execution_count": 3,
      "outputs": []
    },
    {
      "cell_type": "code",
      "metadata": {
        "id": "6BWdWTrXcCaG"
      },
      "source": [
        "s = 'Hello'\n",
        "s.count('l')"
      ],
      "execution_count": null,
      "outputs": []
    },
    {
      "cell_type": "markdown",
      "metadata": {
        "id": "43DdLbrKLA6M"
      },
      "source": [
        "---\n",
        "### 해결문제\n",
        "\n",
        "\n",
        "---\n",
        "회문(palindrome)은 순서를 거꾸로 읽어도 제대로 읽은 것과 같은 단어와 문장이다, 단어를 입력받아 회문인지 판별하시오."
      ]
    },
    {
      "cell_type": "code",
      "metadata": {
        "id": "P_gsX9oAcum-"
      },
      "source": [
        "eye\n",
        "level"
      ],
      "execution_count": null,
      "outputs": []
    },
    {
      "cell_type": "code",
      "metadata": {
        "colab": {
          "base_uri": "https://localhost:8080/"
        },
        "id": "KJh1LNxEc1hB",
        "outputId": "d1f1b018-0f3a-4dfb-fe5e-a10e874eb5b2"
      },
      "source": [
        "data = input()"
      ],
      "execution_count": 4,
      "outputs": [
        {
          "output_type": "stream",
          "text": [
            "토마토\n"
          ],
          "name": "stdout"
        }
      ]
    },
    {
      "cell_type": "code",
      "metadata": {
        "id": "EqHc4xGur1FO",
        "colab": {
          "base_uri": "https://localhost:8080/"
        },
        "outputId": "980a0211-a7a0-4731-cea5-ef455363d070"
      },
      "source": [
        "# reverse와 join 활용 \n",
        "data = input()\n",
        "\n",
        "lts = list(data)\n",
        "lts.reverse()\n",
        "s = ''.join(lts)\n",
        "\n",
        "if data == s : print(f'{data}는 회문')\n",
        "else : print(f'{data}는 비회문')"
      ],
      "execution_count": 12,
      "outputs": [
        {
          "output_type": "stream",
          "text": [
            "일요일\n",
            "일요일는 회문\n"
          ],
          "name": "stdout"
        }
      ]
    },
    {
      "cell_type": "code",
      "metadata": {
        "id": "n8En5ca4xyOb",
        "colab": {
          "base_uri": "https://localhost:8080/"
        },
        "outputId": "b47d0c6f-e544-4729-8823-cf763b416602"
      },
      "source": [
        "# [::-1] : 처음부터 끝까지 -1칸 간격으로 ( == 역순으로)\n",
        "\n",
        "data = input()\n",
        "s = data[::-1]\n",
        "\n",
        "if data == s : print(f'{data}는 회문')\n",
        "else : print(f'{data}는 비회문')"
      ],
      "execution_count": 13,
      "outputs": [
        {
          "output_type": "stream",
          "text": [
            "토마토\n",
            "토마토는 회문\n"
          ],
          "name": "stdout"
        }
      ]
    },
    {
      "cell_type": "markdown",
      "metadata": {
        "id": "7AJ45VMez0J1"
      },
      "source": [
        "### 리스트 내장함수\n",
        "* sum() : 리스트의 합을 반환\n",
        "* min() : 리스트 최소값 반환\n",
        "* max() : 리스트 최대값 반환\n",
        "* len() : 리스트 개수 반환"
      ]
    },
    {
      "cell_type": "markdown",
      "metadata": {
        "id": "SAa867TDz2jR"
      },
      "source": [
        "---\n",
        "### 해결문제\n",
        "\n",
        "\n",
        "---\n",
        "자신을 제외한 모든 약수의 합이 자신과 같은 수를 완전수라고 한다. \n",
        "입력한 값이 완전수 인지 확인해 보세요.\n",
        "예) 6, 28, 496"
      ]
    },
    {
      "cell_type": "code",
      "metadata": {
        "id": "Ag8tiyi4z7v1",
        "colab": {
          "base_uri": "https://localhost:8080/"
        },
        "outputId": "cda8398b-886f-4965-a1e0-4c88392e82fe"
      },
      "source": [
        "n = int(input())\n",
        "lt = []\n",
        "for i in range(1, n) :\n",
        "  if n % i == 0 : lt.append(i)\n",
        "\n",
        "sum(lt) "
      ],
      "execution_count": 18,
      "outputs": [
        {
          "output_type": "stream",
          "text": [
            "6\n"
          ],
          "name": "stdout"
        },
        {
          "output_type": "execute_result",
          "data": {
            "text/plain": [
              "6"
            ]
          },
          "metadata": {
            "tags": []
          },
          "execution_count": 18
        }
      ]
    },
    {
      "cell_type": "markdown",
      "metadata": {
        "id": "ggnd2AxcgBQI"
      },
      "source": [
        "\n",
        "\n",
        "---\n",
        "### 해결문제\n",
        "\n",
        "\n",
        "---\n",
        "369게임은 3,6,9가 포함된 숫자가 나오면 박수를 치는 게임이다.\n",
        "\n",
        "이때, 해당 숫자에 여러개의 3,6,9가 포함되면 해당 개수만큼 박수를 쳐야한다.\n",
        "\n",
        "예를 들어, 36이면 2번의 박수를 쳐야한다.\n",
        "N을 입력받아서 N이전까지 박수 친 횟수를 구하시오.\n",
        "\n",
        "예) 입력: 35, 출력: 15\n",
        "\n"
      ]
    },
    {
      "cell_type": "code",
      "metadata": {
        "id": "zzI1CYU6gChI",
        "colab": {
          "base_uri": "https://localhost:8080/"
        },
        "outputId": "4fa01b7a-384c-4809-d3be-1939cb712bf9"
      },
      "source": [
        "n = int(input())\n",
        "cnt = 0\n",
        "for i in range(n) :\n",
        "  temp = list(str(i))\n",
        "  print(temp, \"=>\" , end = ' ')\n",
        "  temp = [int(i) for i in temp]\n",
        "  \n",
        "  for j in temp :\n",
        "    if j in [3, 6, 9] : cnt = cnt + 1 \n",
        "  \n",
        "  print(cnt)\n",
        "\n",
        "print()\n",
        "print(cnt)"
      ],
      "execution_count": 42,
      "outputs": [
        {
          "output_type": "stream",
          "text": [
            "606\n",
            "['0'] => 0\n",
            "['1'] => 0\n",
            "['2'] => 0\n",
            "['3'] => 1\n",
            "['4'] => 1\n",
            "['5'] => 1\n",
            "['6'] => 2\n",
            "['7'] => 2\n",
            "['8'] => 2\n",
            "['9'] => 3\n",
            "['1', '0'] => 3\n",
            "['1', '1'] => 3\n",
            "['1', '2'] => 3\n",
            "['1', '3'] => 4\n",
            "['1', '4'] => 4\n",
            "['1', '5'] => 4\n",
            "['1', '6'] => 5\n",
            "['1', '7'] => 5\n",
            "['1', '8'] => 5\n",
            "['1', '9'] => 6\n",
            "['2', '0'] => 6\n",
            "['2', '1'] => 6\n",
            "['2', '2'] => 6\n",
            "['2', '3'] => 7\n",
            "['2', '4'] => 7\n",
            "['2', '5'] => 7\n",
            "['2', '6'] => 8\n",
            "['2', '7'] => 8\n",
            "['2', '8'] => 8\n",
            "['2', '9'] => 9\n",
            "['3', '0'] => 10\n",
            "['3', '1'] => 11\n",
            "['3', '2'] => 12\n",
            "['3', '3'] => 14\n",
            "['3', '4'] => 15\n",
            "['3', '5'] => 16\n",
            "['3', '6'] => 18\n",
            "['3', '7'] => 19\n",
            "['3', '8'] => 20\n",
            "['3', '9'] => 22\n",
            "['4', '0'] => 22\n",
            "['4', '1'] => 22\n",
            "['4', '2'] => 22\n",
            "['4', '3'] => 23\n",
            "['4', '4'] => 23\n",
            "['4', '5'] => 23\n",
            "['4', '6'] => 24\n",
            "['4', '7'] => 24\n",
            "['4', '8'] => 24\n",
            "['4', '9'] => 25\n",
            "['5', '0'] => 25\n",
            "['5', '1'] => 25\n",
            "['5', '2'] => 25\n",
            "['5', '3'] => 26\n",
            "['5', '4'] => 26\n",
            "['5', '5'] => 26\n",
            "['5', '6'] => 27\n",
            "['5', '7'] => 27\n",
            "['5', '8'] => 27\n",
            "['5', '9'] => 28\n",
            "['6', '0'] => 29\n",
            "['6', '1'] => 30\n",
            "['6', '2'] => 31\n",
            "['6', '3'] => 33\n",
            "['6', '4'] => 34\n",
            "['6', '5'] => 35\n",
            "['6', '6'] => 37\n",
            "['6', '7'] => 38\n",
            "['6', '8'] => 39\n",
            "['6', '9'] => 41\n",
            "['7', '0'] => 41\n",
            "['7', '1'] => 41\n",
            "['7', '2'] => 41\n",
            "['7', '3'] => 42\n",
            "['7', '4'] => 42\n",
            "['7', '5'] => 42\n",
            "['7', '6'] => 43\n",
            "['7', '7'] => 43\n",
            "['7', '8'] => 43\n",
            "['7', '9'] => 44\n",
            "['8', '0'] => 44\n",
            "['8', '1'] => 44\n",
            "['8', '2'] => 44\n",
            "['8', '3'] => 45\n",
            "['8', '4'] => 45\n",
            "['8', '5'] => 45\n",
            "['8', '6'] => 46\n",
            "['8', '7'] => 46\n",
            "['8', '8'] => 46\n",
            "['8', '9'] => 47\n",
            "['9', '0'] => 48\n",
            "['9', '1'] => 49\n",
            "['9', '2'] => 50\n",
            "['9', '3'] => 52\n",
            "['9', '4'] => 53\n",
            "['9', '5'] => 54\n",
            "['9', '6'] => 56\n",
            "['9', '7'] => 57\n",
            "['9', '8'] => 58\n",
            "['9', '9'] => 60\n",
            "['1', '0', '0'] => 60\n",
            "['1', '0', '1'] => 60\n",
            "['1', '0', '2'] => 60\n",
            "['1', '0', '3'] => 61\n",
            "['1', '0', '4'] => 61\n",
            "['1', '0', '5'] => 61\n",
            "['1', '0', '6'] => 62\n",
            "['1', '0', '7'] => 62\n",
            "['1', '0', '8'] => 62\n",
            "['1', '0', '9'] => 63\n",
            "['1', '1', '0'] => 63\n",
            "['1', '1', '1'] => 63\n",
            "['1', '1', '2'] => 63\n",
            "['1', '1', '3'] => 64\n",
            "['1', '1', '4'] => 64\n",
            "['1', '1', '5'] => 64\n",
            "['1', '1', '6'] => 65\n",
            "['1', '1', '7'] => 65\n",
            "['1', '1', '8'] => 65\n",
            "['1', '1', '9'] => 66\n",
            "['1', '2', '0'] => 66\n",
            "['1', '2', '1'] => 66\n",
            "['1', '2', '2'] => 66\n",
            "['1', '2', '3'] => 67\n",
            "['1', '2', '4'] => 67\n",
            "['1', '2', '5'] => 67\n",
            "['1', '2', '6'] => 68\n",
            "['1', '2', '7'] => 68\n",
            "['1', '2', '8'] => 68\n",
            "['1', '2', '9'] => 69\n",
            "['1', '3', '0'] => 70\n",
            "['1', '3', '1'] => 71\n",
            "['1', '3', '2'] => 72\n",
            "['1', '3', '3'] => 74\n",
            "['1', '3', '4'] => 75\n",
            "['1', '3', '5'] => 76\n",
            "['1', '3', '6'] => 78\n",
            "['1', '3', '7'] => 79\n",
            "['1', '3', '8'] => 80\n",
            "['1', '3', '9'] => 82\n",
            "['1', '4', '0'] => 82\n",
            "['1', '4', '1'] => 82\n",
            "['1', '4', '2'] => 82\n",
            "['1', '4', '3'] => 83\n",
            "['1', '4', '4'] => 83\n",
            "['1', '4', '5'] => 83\n",
            "['1', '4', '6'] => 84\n",
            "['1', '4', '7'] => 84\n",
            "['1', '4', '8'] => 84\n",
            "['1', '4', '9'] => 85\n",
            "['1', '5', '0'] => 85\n",
            "['1', '5', '1'] => 85\n",
            "['1', '5', '2'] => 85\n",
            "['1', '5', '3'] => 86\n",
            "['1', '5', '4'] => 86\n",
            "['1', '5', '5'] => 86\n",
            "['1', '5', '6'] => 87\n",
            "['1', '5', '7'] => 87\n",
            "['1', '5', '8'] => 87\n",
            "['1', '5', '9'] => 88\n",
            "['1', '6', '0'] => 89\n",
            "['1', '6', '1'] => 90\n",
            "['1', '6', '2'] => 91\n",
            "['1', '6', '3'] => 93\n",
            "['1', '6', '4'] => 94\n",
            "['1', '6', '5'] => 95\n",
            "['1', '6', '6'] => 97\n",
            "['1', '6', '7'] => 98\n",
            "['1', '6', '8'] => 99\n",
            "['1', '6', '9'] => 101\n",
            "['1', '7', '0'] => 101\n",
            "['1', '7', '1'] => 101\n",
            "['1', '7', '2'] => 101\n",
            "['1', '7', '3'] => 102\n",
            "['1', '7', '4'] => 102\n",
            "['1', '7', '5'] => 102\n",
            "['1', '7', '6'] => 103\n",
            "['1', '7', '7'] => 103\n",
            "['1', '7', '8'] => 103\n",
            "['1', '7', '9'] => 104\n",
            "['1', '8', '0'] => 104\n",
            "['1', '8', '1'] => 104\n",
            "['1', '8', '2'] => 104\n",
            "['1', '8', '3'] => 105\n",
            "['1', '8', '4'] => 105\n",
            "['1', '8', '5'] => 105\n",
            "['1', '8', '6'] => 106\n",
            "['1', '8', '7'] => 106\n",
            "['1', '8', '8'] => 106\n",
            "['1', '8', '9'] => 107\n",
            "['1', '9', '0'] => 108\n",
            "['1', '9', '1'] => 109\n",
            "['1', '9', '2'] => 110\n",
            "['1', '9', '3'] => 112\n",
            "['1', '9', '4'] => 113\n",
            "['1', '9', '5'] => 114\n",
            "['1', '9', '6'] => 116\n",
            "['1', '9', '7'] => 117\n",
            "['1', '9', '8'] => 118\n",
            "['1', '9', '9'] => 120\n",
            "['2', '0', '0'] => 120\n",
            "['2', '0', '1'] => 120\n",
            "['2', '0', '2'] => 120\n",
            "['2', '0', '3'] => 121\n",
            "['2', '0', '4'] => 121\n",
            "['2', '0', '5'] => 121\n",
            "['2', '0', '6'] => 122\n",
            "['2', '0', '7'] => 122\n",
            "['2', '0', '8'] => 122\n",
            "['2', '0', '9'] => 123\n",
            "['2', '1', '0'] => 123\n",
            "['2', '1', '1'] => 123\n",
            "['2', '1', '2'] => 123\n",
            "['2', '1', '3'] => 124\n",
            "['2', '1', '4'] => 124\n",
            "['2', '1', '5'] => 124\n",
            "['2', '1', '6'] => 125\n",
            "['2', '1', '7'] => 125\n",
            "['2', '1', '8'] => 125\n",
            "['2', '1', '9'] => 126\n",
            "['2', '2', '0'] => 126\n",
            "['2', '2', '1'] => 126\n",
            "['2', '2', '2'] => 126\n",
            "['2', '2', '3'] => 127\n",
            "['2', '2', '4'] => 127\n",
            "['2', '2', '5'] => 127\n",
            "['2', '2', '6'] => 128\n",
            "['2', '2', '7'] => 128\n",
            "['2', '2', '8'] => 128\n",
            "['2', '2', '9'] => 129\n",
            "['2', '3', '0'] => 130\n",
            "['2', '3', '1'] => 131\n",
            "['2', '3', '2'] => 132\n",
            "['2', '3', '3'] => 134\n",
            "['2', '3', '4'] => 135\n",
            "['2', '3', '5'] => 136\n",
            "['2', '3', '6'] => 138\n",
            "['2', '3', '7'] => 139\n",
            "['2', '3', '8'] => 140\n",
            "['2', '3', '9'] => 142\n",
            "['2', '4', '0'] => 142\n",
            "['2', '4', '1'] => 142\n",
            "['2', '4', '2'] => 142\n",
            "['2', '4', '3'] => 143\n",
            "['2', '4', '4'] => 143\n",
            "['2', '4', '5'] => 143\n",
            "['2', '4', '6'] => 144\n",
            "['2', '4', '7'] => 144\n",
            "['2', '4', '8'] => 144\n",
            "['2', '4', '9'] => 145\n",
            "['2', '5', '0'] => 145\n",
            "['2', '5', '1'] => 145\n",
            "['2', '5', '2'] => 145\n",
            "['2', '5', '3'] => 146\n",
            "['2', '5', '4'] => 146\n",
            "['2', '5', '5'] => 146\n",
            "['2', '5', '6'] => 147\n",
            "['2', '5', '7'] => 147\n",
            "['2', '5', '8'] => 147\n",
            "['2', '5', '9'] => 148\n",
            "['2', '6', '0'] => 149\n",
            "['2', '6', '1'] => 150\n",
            "['2', '6', '2'] => 151\n",
            "['2', '6', '3'] => 153\n",
            "['2', '6', '4'] => 154\n",
            "['2', '6', '5'] => 155\n",
            "['2', '6', '6'] => 157\n",
            "['2', '6', '7'] => 158\n",
            "['2', '6', '8'] => 159\n",
            "['2', '6', '9'] => 161\n",
            "['2', '7', '0'] => 161\n",
            "['2', '7', '1'] => 161\n",
            "['2', '7', '2'] => 161\n",
            "['2', '7', '3'] => 162\n",
            "['2', '7', '4'] => 162\n",
            "['2', '7', '5'] => 162\n",
            "['2', '7', '6'] => 163\n",
            "['2', '7', '7'] => 163\n",
            "['2', '7', '8'] => 163\n",
            "['2', '7', '9'] => 164\n",
            "['2', '8', '0'] => 164\n",
            "['2', '8', '1'] => 164\n",
            "['2', '8', '2'] => 164\n",
            "['2', '8', '3'] => 165\n",
            "['2', '8', '4'] => 165\n",
            "['2', '8', '5'] => 165\n",
            "['2', '8', '6'] => 166\n",
            "['2', '8', '7'] => 166\n",
            "['2', '8', '8'] => 166\n",
            "['2', '8', '9'] => 167\n",
            "['2', '9', '0'] => 168\n",
            "['2', '9', '1'] => 169\n",
            "['2', '9', '2'] => 170\n",
            "['2', '9', '3'] => 172\n",
            "['2', '9', '4'] => 173\n",
            "['2', '9', '5'] => 174\n",
            "['2', '9', '6'] => 176\n",
            "['2', '9', '7'] => 177\n",
            "['2', '9', '8'] => 178\n",
            "['2', '9', '9'] => 180\n",
            "['3', '0', '0'] => 181\n",
            "['3', '0', '1'] => 182\n",
            "['3', '0', '2'] => 183\n",
            "['3', '0', '3'] => 185\n",
            "['3', '0', '4'] => 186\n",
            "['3', '0', '5'] => 187\n",
            "['3', '0', '6'] => 189\n",
            "['3', '0', '7'] => 190\n",
            "['3', '0', '8'] => 191\n",
            "['3', '0', '9'] => 193\n",
            "['3', '1', '0'] => 194\n",
            "['3', '1', '1'] => 195\n",
            "['3', '1', '2'] => 196\n",
            "['3', '1', '3'] => 198\n",
            "['3', '1', '4'] => 199\n",
            "['3', '1', '5'] => 200\n",
            "['3', '1', '6'] => 202\n",
            "['3', '1', '7'] => 203\n",
            "['3', '1', '8'] => 204\n",
            "['3', '1', '9'] => 206\n",
            "['3', '2', '0'] => 207\n",
            "['3', '2', '1'] => 208\n",
            "['3', '2', '2'] => 209\n",
            "['3', '2', '3'] => 211\n",
            "['3', '2', '4'] => 212\n",
            "['3', '2', '5'] => 213\n",
            "['3', '2', '6'] => 215\n",
            "['3', '2', '7'] => 216\n",
            "['3', '2', '8'] => 217\n",
            "['3', '2', '9'] => 219\n",
            "['3', '3', '0'] => 221\n",
            "['3', '3', '1'] => 223\n",
            "['3', '3', '2'] => 225\n",
            "['3', '3', '3'] => 228\n",
            "['3', '3', '4'] => 230\n",
            "['3', '3', '5'] => 232\n",
            "['3', '3', '6'] => 235\n",
            "['3', '3', '7'] => 237\n",
            "['3', '3', '8'] => 239\n",
            "['3', '3', '9'] => 242\n",
            "['3', '4', '0'] => 243\n",
            "['3', '4', '1'] => 244\n",
            "['3', '4', '2'] => 245\n",
            "['3', '4', '3'] => 247\n",
            "['3', '4', '4'] => 248\n",
            "['3', '4', '5'] => 249\n",
            "['3', '4', '6'] => 251\n",
            "['3', '4', '7'] => 252\n",
            "['3', '4', '8'] => 253\n",
            "['3', '4', '9'] => 255\n",
            "['3', '5', '0'] => 256\n",
            "['3', '5', '1'] => 257\n",
            "['3', '5', '2'] => 258\n",
            "['3', '5', '3'] => 260\n",
            "['3', '5', '4'] => 261\n",
            "['3', '5', '5'] => 262\n",
            "['3', '5', '6'] => 264\n",
            "['3', '5', '7'] => 265\n",
            "['3', '5', '8'] => 266\n",
            "['3', '5', '9'] => 268\n",
            "['3', '6', '0'] => 270\n",
            "['3', '6', '1'] => 272\n",
            "['3', '6', '2'] => 274\n",
            "['3', '6', '3'] => 277\n",
            "['3', '6', '4'] => 279\n",
            "['3', '6', '5'] => 281\n",
            "['3', '6', '6'] => 284\n",
            "['3', '6', '7'] => 286\n",
            "['3', '6', '8'] => 288\n",
            "['3', '6', '9'] => 291\n",
            "['3', '7', '0'] => 292\n",
            "['3', '7', '1'] => 293\n",
            "['3', '7', '2'] => 294\n",
            "['3', '7', '3'] => 296\n",
            "['3', '7', '4'] => 297\n",
            "['3', '7', '5'] => 298\n",
            "['3', '7', '6'] => 300\n",
            "['3', '7', '7'] => 301\n",
            "['3', '7', '8'] => 302\n",
            "['3', '7', '9'] => 304\n",
            "['3', '8', '0'] => 305\n",
            "['3', '8', '1'] => 306\n",
            "['3', '8', '2'] => 307\n",
            "['3', '8', '3'] => 309\n",
            "['3', '8', '4'] => 310\n",
            "['3', '8', '5'] => 311\n",
            "['3', '8', '6'] => 313\n",
            "['3', '8', '7'] => 314\n",
            "['3', '8', '8'] => 315\n",
            "['3', '8', '9'] => 317\n",
            "['3', '9', '0'] => 319\n",
            "['3', '9', '1'] => 321\n",
            "['3', '9', '2'] => 323\n",
            "['3', '9', '3'] => 326\n",
            "['3', '9', '4'] => 328\n",
            "['3', '9', '5'] => 330\n",
            "['3', '9', '6'] => 333\n",
            "['3', '9', '7'] => 335\n",
            "['3', '9', '8'] => 337\n",
            "['3', '9', '9'] => 340\n",
            "['4', '0', '0'] => 340\n",
            "['4', '0', '1'] => 340\n",
            "['4', '0', '2'] => 340\n",
            "['4', '0', '3'] => 341\n",
            "['4', '0', '4'] => 341\n",
            "['4', '0', '5'] => 341\n",
            "['4', '0', '6'] => 342\n",
            "['4', '0', '7'] => 342\n",
            "['4', '0', '8'] => 342\n",
            "['4', '0', '9'] => 343\n",
            "['4', '1', '0'] => 343\n",
            "['4', '1', '1'] => 343\n",
            "['4', '1', '2'] => 343\n",
            "['4', '1', '3'] => 344\n",
            "['4', '1', '4'] => 344\n",
            "['4', '1', '5'] => 344\n",
            "['4', '1', '6'] => 345\n",
            "['4', '1', '7'] => 345\n",
            "['4', '1', '8'] => 345\n",
            "['4', '1', '9'] => 346\n",
            "['4', '2', '0'] => 346\n",
            "['4', '2', '1'] => 346\n",
            "['4', '2', '2'] => 346\n",
            "['4', '2', '3'] => 347\n",
            "['4', '2', '4'] => 347\n",
            "['4', '2', '5'] => 347\n",
            "['4', '2', '6'] => 348\n",
            "['4', '2', '7'] => 348\n",
            "['4', '2', '8'] => 348\n",
            "['4', '2', '9'] => 349\n",
            "['4', '3', '0'] => 350\n",
            "['4', '3', '1'] => 351\n",
            "['4', '3', '2'] => 352\n",
            "['4', '3', '3'] => 354\n",
            "['4', '3', '4'] => 355\n",
            "['4', '3', '5'] => 356\n",
            "['4', '3', '6'] => 358\n",
            "['4', '3', '7'] => 359\n",
            "['4', '3', '8'] => 360\n",
            "['4', '3', '9'] => 362\n",
            "['4', '4', '0'] => 362\n",
            "['4', '4', '1'] => 362\n",
            "['4', '4', '2'] => 362\n",
            "['4', '4', '3'] => 363\n",
            "['4', '4', '4'] => 363\n",
            "['4', '4', '5'] => 363\n",
            "['4', '4', '6'] => 364\n",
            "['4', '4', '7'] => 364\n",
            "['4', '4', '8'] => 364\n",
            "['4', '4', '9'] => 365\n",
            "['4', '5', '0'] => 365\n",
            "['4', '5', '1'] => 365\n",
            "['4', '5', '2'] => 365\n",
            "['4', '5', '3'] => 366\n",
            "['4', '5', '4'] => 366\n",
            "['4', '5', '5'] => 366\n",
            "['4', '5', '6'] => 367\n",
            "['4', '5', '7'] => 367\n",
            "['4', '5', '8'] => 367\n",
            "['4', '5', '9'] => 368\n",
            "['4', '6', '0'] => 369\n",
            "['4', '6', '1'] => 370\n",
            "['4', '6', '2'] => 371\n",
            "['4', '6', '3'] => 373\n",
            "['4', '6', '4'] => 374\n",
            "['4', '6', '5'] => 375\n",
            "['4', '6', '6'] => 377\n",
            "['4', '6', '7'] => 378\n",
            "['4', '6', '8'] => 379\n",
            "['4', '6', '9'] => 381\n",
            "['4', '7', '0'] => 381\n",
            "['4', '7', '1'] => 381\n",
            "['4', '7', '2'] => 381\n",
            "['4', '7', '3'] => 382\n",
            "['4', '7', '4'] => 382\n",
            "['4', '7', '5'] => 382\n",
            "['4', '7', '6'] => 383\n",
            "['4', '7', '7'] => 383\n",
            "['4', '7', '8'] => 383\n",
            "['4', '7', '9'] => 384\n",
            "['4', '8', '0'] => 384\n",
            "['4', '8', '1'] => 384\n",
            "['4', '8', '2'] => 384\n",
            "['4', '8', '3'] => 385\n",
            "['4', '8', '4'] => 385\n",
            "['4', '8', '5'] => 385\n",
            "['4', '8', '6'] => 386\n",
            "['4', '8', '7'] => 386\n",
            "['4', '8', '8'] => 386\n",
            "['4', '8', '9'] => 387\n",
            "['4', '9', '0'] => 388\n",
            "['4', '9', '1'] => 389\n",
            "['4', '9', '2'] => 390\n",
            "['4', '9', '3'] => 392\n",
            "['4', '9', '4'] => 393\n",
            "['4', '9', '5'] => 394\n",
            "['4', '9', '6'] => 396\n",
            "['4', '9', '7'] => 397\n",
            "['4', '9', '8'] => 398\n",
            "['4', '9', '9'] => 400\n",
            "['5', '0', '0'] => 400\n",
            "['5', '0', '1'] => 400\n",
            "['5', '0', '2'] => 400\n",
            "['5', '0', '3'] => 401\n",
            "['5', '0', '4'] => 401\n",
            "['5', '0', '5'] => 401\n",
            "['5', '0', '6'] => 402\n",
            "['5', '0', '7'] => 402\n",
            "['5', '0', '8'] => 402\n",
            "['5', '0', '9'] => 403\n",
            "['5', '1', '0'] => 403\n",
            "['5', '1', '1'] => 403\n",
            "['5', '1', '2'] => 403\n",
            "['5', '1', '3'] => 404\n",
            "['5', '1', '4'] => 404\n",
            "['5', '1', '5'] => 404\n",
            "['5', '1', '6'] => 405\n",
            "['5', '1', '7'] => 405\n",
            "['5', '1', '8'] => 405\n",
            "['5', '1', '9'] => 406\n",
            "['5', '2', '0'] => 406\n",
            "['5', '2', '1'] => 406\n",
            "['5', '2', '2'] => 406\n",
            "['5', '2', '3'] => 407\n",
            "['5', '2', '4'] => 407\n",
            "['5', '2', '5'] => 407\n",
            "['5', '2', '6'] => 408\n",
            "['5', '2', '7'] => 408\n",
            "['5', '2', '8'] => 408\n",
            "['5', '2', '9'] => 409\n",
            "['5', '3', '0'] => 410\n",
            "['5', '3', '1'] => 411\n",
            "['5', '3', '2'] => 412\n",
            "['5', '3', '3'] => 414\n",
            "['5', '3', '4'] => 415\n",
            "['5', '3', '5'] => 416\n",
            "['5', '3', '6'] => 418\n",
            "['5', '3', '7'] => 419\n",
            "['5', '3', '8'] => 420\n",
            "['5', '3', '9'] => 422\n",
            "['5', '4', '0'] => 422\n",
            "['5', '4', '1'] => 422\n",
            "['5', '4', '2'] => 422\n",
            "['5', '4', '3'] => 423\n",
            "['5', '4', '4'] => 423\n",
            "['5', '4', '5'] => 423\n",
            "['5', '4', '6'] => 424\n",
            "['5', '4', '7'] => 424\n",
            "['5', '4', '8'] => 424\n",
            "['5', '4', '9'] => 425\n",
            "['5', '5', '0'] => 425\n",
            "['5', '5', '1'] => 425\n",
            "['5', '5', '2'] => 425\n",
            "['5', '5', '3'] => 426\n",
            "['5', '5', '4'] => 426\n",
            "['5', '5', '5'] => 426\n",
            "['5', '5', '6'] => 427\n",
            "['5', '5', '7'] => 427\n",
            "['5', '5', '8'] => 427\n",
            "['5', '5', '9'] => 428\n",
            "['5', '6', '0'] => 429\n",
            "['5', '6', '1'] => 430\n",
            "['5', '6', '2'] => 431\n",
            "['5', '6', '3'] => 433\n",
            "['5', '6', '4'] => 434\n",
            "['5', '6', '5'] => 435\n",
            "['5', '6', '6'] => 437\n",
            "['5', '6', '7'] => 438\n",
            "['5', '6', '8'] => 439\n",
            "['5', '6', '9'] => 441\n",
            "['5', '7', '0'] => 441\n",
            "['5', '7', '1'] => 441\n",
            "['5', '7', '2'] => 441\n",
            "['5', '7', '3'] => 442\n",
            "['5', '7', '4'] => 442\n",
            "['5', '7', '5'] => 442\n",
            "['5', '7', '6'] => 443\n",
            "['5', '7', '7'] => 443\n",
            "['5', '7', '8'] => 443\n",
            "['5', '7', '9'] => 444\n",
            "['5', '8', '0'] => 444\n",
            "['5', '8', '1'] => 444\n",
            "['5', '8', '2'] => 444\n",
            "['5', '8', '3'] => 445\n",
            "['5', '8', '4'] => 445\n",
            "['5', '8', '5'] => 445\n",
            "['5', '8', '6'] => 446\n",
            "['5', '8', '7'] => 446\n",
            "['5', '8', '8'] => 446\n",
            "['5', '8', '9'] => 447\n",
            "['5', '9', '0'] => 448\n",
            "['5', '9', '1'] => 449\n",
            "['5', '9', '2'] => 450\n",
            "['5', '9', '3'] => 452\n",
            "['5', '9', '4'] => 453\n",
            "['5', '9', '5'] => 454\n",
            "['5', '9', '6'] => 456\n",
            "['5', '9', '7'] => 457\n",
            "['5', '9', '8'] => 458\n",
            "['5', '9', '9'] => 460\n",
            "['6', '0', '0'] => 461\n",
            "['6', '0', '1'] => 462\n",
            "['6', '0', '2'] => 463\n",
            "['6', '0', '3'] => 465\n",
            "['6', '0', '4'] => 466\n",
            "['6', '0', '5'] => 467\n",
            "\n",
            "467\n"
          ],
          "name": "stdout"
        }
      ]
    },
    {
      "cell_type": "code",
      "metadata": {
        "id": "eTLs4PAkmXJW"
      },
      "source": [
        ""
      ],
      "execution_count": null,
      "outputs": []
    },
    {
      "cell_type": "markdown",
      "metadata": {
        "id": "gyS_EUW72Rkg"
      },
      "source": [
        "## 튜플(tuple) \n",
        "+ 튜플의 각 요소는 순서를 가지고 있음\n",
        "+ 괄호(())로 작성되며 각 요소는 쉼표(,)로 구분\n",
        "+ 요소를 추가, 수정, 삭제 불가능\n",
        "+ **한번 결정된 요소는 변경 불가능**\n",
        "+ **인덱싱과 슬라이싱은 리스트와 동일**\n",
        "+ $+$와 $*$연산은 리스트와 동일\n",
        "+ 각 요소에 변수 할당 가능\n",
        " - x, y = (10, 20)"
      ]
    },
    {
      "cell_type": "code",
      "metadata": {
        "colab": {
          "base_uri": "https://localhost:8080/"
        },
        "id": "YN9GOVwztZdx",
        "outputId": "ce019990-29e9-49dc-9628-da6b4f18d6b4"
      },
      "source": [
        "tp = (10, 20, 30)\n",
        "print(tp, type(tp))"
      ],
      "execution_count": 44,
      "outputs": [
        {
          "output_type": "stream",
          "text": [
            "(10, 20, 30) <class 'tuple'>\n"
          ],
          "name": "stdout"
        }
      ]
    },
    {
      "cell_type": "code",
      "metadata": {
        "colab": {
          "base_uri": "https://localhost:8080/",
          "height": 190
        },
        "id": "7Ol7tRYltmAL",
        "outputId": "2e458160-912e-4a81-bbc7-d0327d34ce50"
      },
      "source": [
        "tp[0] = 100\n",
        "tp"
      ],
      "execution_count": 45,
      "outputs": [
        {
          "output_type": "error",
          "ename": "TypeError",
          "evalue": "ignored",
          "traceback": [
            "\u001b[0;31m---------------------------------------------------------------------------\u001b[0m",
            "\u001b[0;31mTypeError\u001b[0m                                 Traceback (most recent call last)",
            "\u001b[0;32m<ipython-input-45-582413d43149>\u001b[0m in \u001b[0;36m<module>\u001b[0;34m()\u001b[0m\n\u001b[0;32m----> 1\u001b[0;31m \u001b[0mtp\u001b[0m\u001b[0;34m[\u001b[0m\u001b[0;36m0\u001b[0m\u001b[0;34m]\u001b[0m \u001b[0;34m=\u001b[0m \u001b[0;36m100\u001b[0m\u001b[0;34m\u001b[0m\u001b[0;34m\u001b[0m\u001b[0m\n\u001b[0m\u001b[1;32m      2\u001b[0m \u001b[0mtp\u001b[0m\u001b[0;34m\u001b[0m\u001b[0;34m\u001b[0m\u001b[0m\n",
            "\u001b[0;31mTypeError\u001b[0m: 'tuple' object does not support item assignment"
          ]
        }
      ]
    },
    {
      "cell_type": "code",
      "metadata": {
        "colab": {
          "base_uri": "https://localhost:8080/"
        },
        "id": "K6K1VRdeuiEd",
        "outputId": "ee8e4f4f-0c36-4017-c4a7-b7b521e933d7"
      },
      "source": [
        "tp = list(tp)\n",
        "print(tp, type(tp))\n",
        "\n",
        "tp[0] = 100\n",
        "tp = tuple(tp)\n",
        "print(tp, type(tp))"
      ],
      "execution_count": 46,
      "outputs": [
        {
          "output_type": "stream",
          "text": [
            "[10, 20, 30] <class 'list'>\n",
            "(100, 20, 30) <class 'tuple'>\n"
          ],
          "name": "stdout"
        }
      ]
    },
    {
      "cell_type": "markdown",
      "metadata": {
        "id": "Zu9JAJs22niA"
      },
      "source": [
        "---\n",
        "\n",
        "**생각해보기)**\n",
        "\n",
        "\n",
        "---\n",
        "튜플의 내용을 변경하고 싶을 경우는?\n"
      ]
    },
    {
      "cell_type": "markdown",
      "metadata": {
        "id": "VXfYSOdW8adn"
      },
      "source": [
        "## 딕션너리(dictionary)\n",
        " - 키(key)와 값(value) 쌍을 요소로 가짐\n",
        " - 중괄호({})로 작성되며 각 요소는 쉼표(,)로 구분\n",
        " - 순서 없음 \n",
        " - 키는 변경할 수 없으며 값은 변경가능 \n"
      ]
    },
    {
      "cell_type": "code",
      "metadata": {
        "id": "cBj06KkyvHKY"
      },
      "source": [
        "lt = are"
      ],
      "execution_count": null,
      "outputs": []
    },
    {
      "cell_type": "code",
      "metadata": {
        "id": "ngtkAr4y9h6p"
      },
      "source": [
        "areadata = {'서울시':57, '부산시':62, '대구시':59, \n",
        "            '인천시':59, '강화군':58, '서해5도' : 64, \n",
        "            '광주시' :62, '대전시':60, '울산시':53, \n",
        "            '세종시':58\t}"
      ],
      "execution_count": 55,
      "outputs": []
    },
    {
      "cell_type": "code",
      "metadata": {
        "colab": {
          "base_uri": "https://localhost:8080/"
        },
        "id": "qCLWJHYHvjtr",
        "outputId": "38b59b9f-cde0-469a-e3b9-8b1fd0075168"
      },
      "source": [
        "areadata['부산시']"
      ],
      "execution_count": 50,
      "outputs": [
        {
          "output_type": "execute_result",
          "data": {
            "text/plain": [
              "62"
            ]
          },
          "metadata": {
            "tags": []
          },
          "execution_count": 50
        }
      ]
    },
    {
      "cell_type": "markdown",
      "metadata": {
        "id": "8BUk47wo8gvW"
      },
      "source": [
        "### **딕션너리 접근**\n",
        " - 특정 요소 값 가져오기\n",
        "   + **딕션너리명[키]**\n",
        "   + **닥션너리명.get(키값)**\n",
        "    + Key에 대응되는 Value를 돌려줌\n",
        "    + 딕션너리명[키값]인 것과 동일 \n",
        "    + 차이점 : 키가 없을 경우 딕션너리명[키값]은 오류이고 get()으로 가져올 경우는 none\n",
        " - 요소 키 컬렉션  : 딕션너리명.keys()\n",
        " - 요소 값 컬렉션 : 딕션너리명.values()\n",
        " - 키와 요소 컬렉션은 list() 생성자로 리스트로 변환가능\n"
      ]
    },
    {
      "cell_type": "code",
      "metadata": {
        "id": "M39pJ_QNzlLv"
      },
      "source": [
        "#부산시 자료 가져오기\n",
        " "
      ],
      "execution_count": null,
      "outputs": []
    },
    {
      "cell_type": "code",
      "metadata": {
        "id": "gujVMNaN9m3M",
        "colab": {
          "base_uri": "https://localhost:8080/"
        },
        "outputId": "83cdda0a-a643-4a61-b988-ff423e81bebf"
      },
      "source": [
        "#키와 값을 분리\n",
        "areadata = {'서울시':57, '부산시':62, '대구시':59, \n",
        "            '인천시':59, '강화군':58, '서해5도' : 64, \n",
        "            '광주시' :62, '대전시':60, '울산시':53, \n",
        "            '세종시':58\t}\n",
        "print(areadata)\n",
        "print(list(areadata.keys()))\n",
        "print(list(areadata.values()))"
      ],
      "execution_count": 60,
      "outputs": [
        {
          "output_type": "stream",
          "text": [
            "{'서울시': 57, '부산시': 62, '대구시': 59, '인천시': 59, '강화군': 58, '서해5도': 64, '광주시': 62, '대전시': 60, '울산시': 53, '세종시': 58}\n",
            "['서울시', '부산시', '대구시', '인천시', '강화군', '서해5도', '광주시', '대전시', '울산시', '세종시']\n",
            "[57, 62, 59, 59, 58, 64, 62, 60, 53, 58]\n"
          ],
          "name": "stdout"
        }
      ]
    },
    {
      "cell_type": "code",
      "metadata": {
        "colab": {
          "base_uri": "https://localhost:8080/"
        },
        "id": "r2a9ZqlBw8DW",
        "outputId": "31e1d9bf-d00f-4413-dc30-7b5fd01c5dc9"
      },
      "source": [
        "areadata['충청'] = 1\n",
        "areadata['제주'] =100\n",
        "areadata['거제시'] = 1000\n",
        "areadata['김해'] = 10000\n",
        "\n",
        "areadata"
      ],
      "execution_count": 63,
      "outputs": [
        {
          "output_type": "execute_result",
          "data": {
            "text/plain": [
              "{'강화군': 58,\n",
              " '거제시': 1000,\n",
              " '광주시': 62,\n",
              " '김해': 10000,\n",
              " '대구시': 59,\n",
              " '대전시': 60,\n",
              " '부산시': 70,\n",
              " '서울시': 57,\n",
              " '서해5도': 64,\n",
              " '세종시': 58,\n",
              " '울산시': 53,\n",
              " '인천시': 59,\n",
              " '제주': 100,\n",
              " '충청': 1}"
            ]
          },
          "metadata": {
            "tags": []
          },
          "execution_count": 63
        }
      ]
    },
    {
      "cell_type": "code",
      "metadata": {
        "colab": {
          "base_uri": "https://localhost:8080/"
        },
        "id": "_TwBtZjvxZB8",
        "outputId": "c2c7283f-0dea-4332-a110-cb8fe664b84c"
      },
      "source": [
        "del areadata['제주']\n",
        "areadata"
      ],
      "execution_count": 66,
      "outputs": [
        {
          "output_type": "execute_result",
          "data": {
            "text/plain": [
              "{'강화군': 58,\n",
              " '거제시': 1000,\n",
              " '광주시': 62,\n",
              " '김해': 10000,\n",
              " '대구시': 59,\n",
              " '대전시': 60,\n",
              " '부산시': 70,\n",
              " '서울시': 57,\n",
              " '서해5도': 64,\n",
              " '세종시': 58,\n",
              " '울산시': 53,\n",
              " '인천시': 59,\n",
              " '충청': 1}"
            ]
          },
          "metadata": {
            "tags": []
          },
          "execution_count": 66
        }
      ]
    },
    {
      "cell_type": "code",
      "metadata": {
        "id": "HM3IT7dN-B9q",
        "colab": {
          "base_uri": "https://localhost:8080/"
        },
        "outputId": "1e8adeab-78ec-4d3a-e9c4-0c5ecbe61274"
      },
      "source": [
        "#키와 값으로 출력 \n",
        "areadata['부산시'] = 70\n",
        "areadata"
      ],
      "execution_count": 67,
      "outputs": [
        {
          "output_type": "execute_result",
          "data": {
            "text/plain": [
              "{'강화군': 58,\n",
              " '거제시': 1000,\n",
              " '광주시': 62,\n",
              " '김해': 10000,\n",
              " '대구시': 59,\n",
              " '대전시': 60,\n",
              " '부산시': 70,\n",
              " '서울시': 57,\n",
              " '서해5도': 64,\n",
              " '세종시': 58,\n",
              " '울산시': 53,\n",
              " '인천시': 59,\n",
              " '충청': 1}"
            ]
          },
          "metadata": {
            "tags": []
          },
          "execution_count": 67
        }
      ]
    },
    {
      "cell_type": "code",
      "metadata": {
        "id": "G0fRw96Gxjs0"
      },
      "source": [
        ""
      ],
      "execution_count": null,
      "outputs": []
    },
    {
      "cell_type": "markdown",
      "metadata": {
        "id": "NOiOmi-78m1x"
      },
      "source": [
        "### **요소 변경**\n",
        "* 추가 : 딕션너리명[추가키]=값\n",
        "* 수정 : 딕션너리명[키]=값\n",
        "* 삭제\n",
        " - del 딕션너리명[키]\n",
        " - 딕션너리명.pop[키]"
      ]
    },
    {
      "cell_type": "markdown",
      "metadata": {
        "id": "XMbGob4U-UX-"
      },
      "source": [
        "---\n",
        "\n",
        "\n",
        "### 해결문제\n",
        "\n",
        "---\n",
        "지역별 식중독 지수와 대응요령 딕션너리를 참고하여 해당 지역을 입력 받아서 대응요령을 출력하시오.\n",
        "\n",
        "\n",
        "+ 위험 : 86 이상 \n",
        " - 설사, 구토 등 식중독 의심 증상이 있으면 의료기관을 방문하여 의사 지시에 따름\n",
        "\n",
        "+ 경고:71 이상 86 미만\n",
        " - 조리도구는 세척, 소독 등을 거쳐 세균오염을 방지하고 유통기한, 보관방법 등을 확인하여 음식물 조리. 보관에 각별히 주의하여야 함\n",
        "\n",
        "+ 주의:55 이상 71 미만\n",
        " - 조리음식은 중심부까지 75℃(어패류 85℃)로 1분 이상 완전히 익히고 외부로 운반할 때에는 가급적 아이스박스 등을 이용하여 10℃이하에서 보관 및 운반\n",
        "\n",
        "+ 관심:55 미만\n",
        " - 화장실 사용 후, 귀가 후, 조리 전에 손 씻기를 생활화\n",
        "\n",
        "\n"
      ]
    },
    {
      "cell_type": "code",
      "metadata": {
        "id": "aVktTyG3-Tr1"
      },
      "source": [
        "areadata = {'서울시':57, '부산시':62, '대구시':59, \n",
        "            '인천시':59, '강화군':58, '서해5도' : 64, \n",
        "            '광주시' :62, '대전시':60, '울산시':53, \n",
        "            '세종시':58\t}\n",
        "\n",
        "report = {'위험': '설사, 구토 등 식중독 의심 증상이 있으면 의료기관을 방문하여 의사 지시에 따름',\n",
        "         '경고': '조리도구는 세척, 소독 등을 거쳐 세균오염을 방지하고 유통기한, 보관방법 등을 확인하여 음식물 조리. 보관에 각별히 주의하여야 함',\n",
        "         '주의': '조리음식은 중심부까지 75℃(어패류 85℃)로 1분 이상 완전히 익히고 외부로 운반할 때에는 가급적 아이스박스 등을 이용하여 10℃이하에서 보관 및 운반',\n",
        "         '관심': '화장실 사용 후, 귀가 후, 조리 전에 손 씻기를 생활화'}"
      ],
      "execution_count": null,
      "outputs": []
    },
    {
      "cell_type": "code",
      "metadata": {
        "id": "30BBbUL0-gg5"
      },
      "source": [
        "'''\n",
        "다음과 같이 출력 \n",
        "서울시(주의) : 조리음식은 중심부까지 75℃(어패류 85℃)로 1분 이상 완전히 익히고 외부로 운반할 때에는 가급적 아이스박스 등을 이용하여 10℃이하에서 보관 및 운반\n",
        "부산시(주의) : 조리음식은 중심부까지 75℃(어패류 85℃)로 1분 이상 완전히 익히고 외부로 운반할 때에는 가급적 아이스박스 등을 이용하여 10℃이하에서 보관 및 운반\n",
        "대구시(주의) : 조리음식은 중심부까지 75℃(어패류 85℃)로 1분 이상 완전히 익히고 외부로 운반할 때에는 가급적 아이스박스 등을 이용하여 10℃이하에서 보관 및 운반\n",
        "인천시(주의) : 조리음식은 중심부까지 75℃(어패류 85℃)로 1분 이상 완전히 익히고 외부로 운반할 때에는 가급적 아이스박스 등을 이용하여 10℃이하에서 보관 및 운반\n",
        "강화군(주의) : 조리음식은 중심부까지 75℃(어패류 85℃)로 1분 이상 완전히 익히고 외부로 운반할 때에는 가급적 아이스박스 등을 이용하여 10℃이하에서 보관 및 운반\n",
        "서해5도(주의) : 조리음식은 중심부까지 75℃(어패류 85℃)로 1분 이상 완전히 익히고 외부로 운반할 때에는 가급적 아이스박스 등을 이용하여 10℃이하에서 보관 및 운반\n",
        "광주시(주의) : 조리음식은 중심부까지 75℃(어패류 85℃)로 1분 이상 완전히 익히고 외부로 운반할 때에는 가급적 아이스박스 등을 이용하여 10℃이하에서 보관 및 운반\n",
        "대전시(주의) : 조리음식은 중심부까지 75℃(어패류 85℃)로 1분 이상 완전히 익히고 외부로 운반할 때에는 가급적 아이스박스 등을 이용하여 10℃이하에서 보관 및 운반\n",
        "울산시(관심) : 화장실 사용 후, 귀가 후, 조리 전에 손 씻기를 생활화\n",
        "세종시(주의) : 조리음식은 중심부까지 75℃(어패류 85℃)로 1분 이상 완전히 익히고 외부로 운반할 때에는 가급적 아이스박스 등을 이용하여 10℃이하에서 보관 및 운반\n",
        "'''\n",
        " "
      ],
      "execution_count": null,
      "outputs": []
    },
    {
      "cell_type": "code",
      "metadata": {
        "colab": {
          "base_uri": "https://localhost:8080/",
          "height": 136
        },
        "id": "KzC6sEHPiw2j",
        "outputId": "1fa6c3b5-6c25-4382-b63e-8ccb83e00bc3"
      },
      "source": [
        ""
      ],
      "execution_count": 14,
      "outputs": [
        {
          "output_type": "error",
          "ename": "SyntaxError",
          "evalue": "ignored",
          "traceback": [
            "\u001b[0;36m  File \u001b[0;32m\"<ipython-input-14-051fff3de521>\"\u001b[0;36m, line \u001b[0;32m1\u001b[0m\n\u001b[0;31m    print(다음과 같이 출력\u001b[0m\n\u001b[0m               ^\u001b[0m\n\u001b[0;31mSyntaxError\u001b[0m\u001b[0;31m:\u001b[0m invalid syntax\n"
          ]
        }
      ]
    },
    {
      "cell_type": "markdown",
      "metadata": {
        "id": "A7PVvgK3CCOq"
      },
      "source": [
        "## 집합(set)\n",
        "+ **특징**\n",
        " - 중복 없는 요소로만 구성\n",
        " - 중괄호({}) 작성되며 각 요소는 쉼표(,)로 구분\n",
        " - 순서 없음\n",
        "\n",
        "+ **생성자 set()**\n",
        " - 리스트나 튜플의 중복 요소 제거 \n",
        "\n",
        "+ **요소 추가**\n",
        " - 집합명.add(요소) : 하나의 요소 추가\n",
        " - 집합명.update(추가집합) : 여러 요소를 추가\n",
        "\n",
        "+ **요소 삭제**\n",
        " - 집합명.remove(요소값) : 하나의 요소 삭제\n",
        " - 집합명.clear() : 모든 요소 삭제\n",
        " \n",
        "+ **집합 연산**\n",
        " - 교집합 : &\n",
        " - 합집합 : |\n",
        " - 차집합 : -"
      ]
    },
    {
      "cell_type": "code",
      "metadata": {
        "id": "2vi9kDbZC73c"
      },
      "source": [
        "lt = [11, 3,1, 2, 2, 3,3, 5]\n",
        "\n",
        "#중복 요소 제거  "
      ],
      "execution_count": null,
      "outputs": []
    },
    {
      "cell_type": "markdown",
      "metadata": {
        "id": "gXPzTZdiDTtL"
      },
      "source": [
        "## **zip()**\n",
        "+ 동일한 개수로 이루어진 컬렉션 자료형을 묶어 주는 역할을 하는 함수"
      ]
    },
    {
      "cell_type": "code",
      "metadata": {
        "id": "fmBetaMKDg3-"
      },
      "source": [
        "lt = [10,50,30]\n",
        "tp = ('a','b','c')\n",
        "\n",
        "#딕션너리 만들기 \n"
      ],
      "execution_count": null,
      "outputs": []
    },
    {
      "cell_type": "code",
      "metadata": {
        "id": "xNGHaezSDpGy"
      },
      "source": [
        "#리스트 만들기 "
      ],
      "execution_count": null,
      "outputs": []
    }
  ]
}